{
  "nbformat": 4,
  "nbformat_minor": 0,
  "metadata": {
    "colab": {
      "name": "Team3 CNN project.ipynb",
      "provenance": [],
      "authorship_tag": "ABX9TyMu/aT/6g+x0w8Iu1Wnycj1",
      "include_colab_link": true
    },
    "kernelspec": {
      "display_name": "Python 3",
      "name": "python3"
    },
    "accelerator": "GPU"
  },
  "cells": [
    {
      "cell_type": "markdown",
      "metadata": {
        "id": "view-in-github",
        "colab_type": "text"
      },
      "source": [
        "<a href=\"https://colab.research.google.com/github/Cl8D/SSUML/blob/main/Project%202%20%3A%20Intel%20Image%20Classification.ipynb\" target=\"_parent\"><img src=\"https://colab.research.google.com/assets/colab-badge.svg\" alt=\"Open In Colab\"/></a>"
      ]
    },
    {
      "cell_type": "code",
      "metadata": {
        "id": "4kZfUDW0zV6r"
      },
      "source": [
        "from google.colab import drive\n",
        "drive.mount('/content/drive')"
      ],
      "execution_count": null,
      "outputs": []
    },
    {
      "cell_type": "code",
      "metadata": {
        "id": "civcQri0zox4"
      },
      "source": [
        "#!mkdir ./drive/My\\ Drive/project1"
      ],
      "execution_count": null,
      "outputs": []
    },
    {
      "cell_type": "code",
      "metadata": {
        "id": "4JljgY-i0PVx"
      },
      "source": [
        "#!unzip ./drive/My\\ Drive/archive.zip -d ./drive/My\\ Drive/project1"
      ],
      "execution_count": null,
      "outputs": []
    },
    {
      "cell_type": "code",
      "metadata": {
        "id": "IQoMx_YQ0WKM"
      },
      "source": [
        "%cd /content/drive/My Drive/project1\n",
        "!ls"
      ],
      "execution_count": null,
      "outputs": []
    },
    {
      "cell_type": "markdown",
      "metadata": {
        "id": "CttsEzw1-OSw"
      },
      "source": [
        "## **--- 실행 코드 ---**"
      ]
    },
    {
      "cell_type": "code",
      "metadata": {
        "id": "vjCgmuk626SP"
      },
      "source": [
        "from google.colab import drive\n",
        "drive.mount('/content/drive')"
      ],
      "execution_count": null,
      "outputs": []
    },
    {
      "cell_type": "code",
      "metadata": {
        "id": "iuazym94-bR6"
      },
      "source": [
        "%cd /content/drive/My Drive/project1\n",
        "!ls"
      ],
      "execution_count": null,
      "outputs": []
    },
    {
      "cell_type": "code",
      "metadata": {
        "id": "BDPyzNgW-dC9"
      },
      "source": [
        "import tensorflow.keras.layers as Layers\n",
        "import tensorflow.keras.activations as Actications\n",
        "import tensorflow.keras.models as Models\n",
        "import tensorflow.keras.optimizers as Optimizer\n",
        "import tensorflow.keras.metrics as Metrics\n",
        "import tensorflow.keras.utils as Utils\n",
        "from keras.utils.vis_utils import model_to_dot\n",
        "import os\n",
        "import matplotlib.pyplot as plot\n",
        "import cv2\n",
        "import numpy as np\n",
        "from sklearn.utils import shuffle\n",
        "from sklearn.metrics import confusion_matrix as CM\n",
        "from random import randint\n",
        "from IPython.display import SVG\n",
        "import matplotlib.gridspec as gridspec"
      ],
      "execution_count": null,
      "outputs": []
    },
    {
      "cell_type": "code",
      "metadata": {
        "id": "9VYMXhUW-kJ6"
      },
      "source": [
        "\n",
        "def get_images(directory):\n",
        "    Images = []\n",
        "    Labels = []  # 0 for Building , 1 for forest, 2 for glacier, 3 for mountain, 4 for Sea , 5 for Street\n",
        "    label = 0\n",
        "    \n",
        "    for labels in os.listdir(directory): #Main Directory where each class label is present as folder name.\n",
        "        if labels == 'glacier': #Folder contain Glacier Images get the '2' class label.\n",
        "            label = 2\n",
        "        elif labels == 'sea':\n",
        "            label = 4\n",
        "        elif labels == 'buildings':\n",
        "            label = 0\n",
        "        elif labels == 'forest':\n",
        "            label = 1\n",
        "        elif labels == 'street':\n",
        "            label = 5\n",
        "        elif labels == 'mountain':\n",
        "            label = 3\n",
        "        \n",
        "        for image_file in os.listdir(directory+labels): #Extracting the file name of the image from Class Label folder\n",
        "            image = cv2.imread(directory+labels+r'/'+image_file) #Reading the image (OpenCV)\n",
        "            image = cv2.resize(image,(150,150)) #Resize the image, Some images are different sizes. (Resizing is very Important)\n",
        "            Images.append(image)\n",
        "            Labels.append(label)\n",
        "    \n",
        "    return shuffle(Images,Labels,random_state=817328462) #Shuffle the dataset you just prepared.\n",
        "\n",
        "def get_classlabel(class_code):\n",
        "    labels = {2:'glacier', 4:'sea', 0:'buildings', 1:'forest', 5:'street', 3:'mountain'}\n",
        "    \n",
        "    return labels[class_code]\n"
      ],
      "execution_count": null,
      "outputs": []
    },
    {
      "cell_type": "markdown",
      "metadata": {
        "id": "OxO9aumlbgeQ"
      },
      "source": [
        "*Label 구분하기 (class_names)"
      ]
    },
    {
      "cell_type": "code",
      "metadata": {
        "id": "pQaQrrhEI-mv"
      },
      "source": [
        "datasets = ['./seg_train/seg_train','./seg_test/seg_test']\n",
        "output = []\n",
        "\n",
        "class_names = ['buildings','forest','glacier','mountain','sea','street']\n",
        "class_name_labels = {class_name:i for i,class_name in enumerate(class_names)}\n",
        "\n",
        "nb_classes = len(class_names)\n",
        "class_name_labels"
      ],
      "execution_count": null,
      "outputs": []
    },
    {
      "cell_type": "markdown",
      "metadata": {
        "id": "RCL7m3MtbnR9"
      },
      "source": [
        "*데이터 로드하기 (1시간 넘게 걸림 주의.)"
      ]
    },
    {
      "cell_type": "code",
      "metadata": {
        "id": "Msxr-XxnJHrP"
      },
      "source": [
        "from tqdm import tqdm\n",
        "\n",
        "def load_data():\n",
        "    for dataset in datasets:\n",
        "        print(\"Loading {}\".format(dataset))\n",
        "\n",
        "        images,labels = [],[]\n",
        "\n",
        "        for folder in os.listdir(dataset):\n",
        "            label = class_name_labels[folder]\n",
        "            \n",
        "            for file in tqdm(os.listdir(os.path.join(dataset,folder))):\n",
        "            \n",
        "                img_path = os.path.join(os.path.join(dataset,folder),file)\n",
        "                #print(img_path)\n",
        "                img = cv2.imread(img_path,cv2.IMREAD_COLOR)\n",
        "                img = cv2.resize(img,(150,150))\n",
        "\n",
        "                images.append(img)\n",
        "                labels.append(label)\n",
        "                pass\n",
        "            pass\n",
        "        \n",
        "        images = np.array(images,dtype=np.float32)\n",
        "        labels = np.array(labels,dtype=np.float32)\n",
        "\n",
        "        output.append((images,labels))\n",
        "        pass\n",
        "\n",
        "    return output\n",
        "    pass"
      ],
      "execution_count": null,
      "outputs": []
    },
    {
      "cell_type": "code",
      "metadata": {
        "id": "kUlamEueJKxv"
      },
      "source": [
        "(train_images,train_labels),(test_images,test_labels) = load_data()"
      ],
      "execution_count": null,
      "outputs": []
    },
    {
      "cell_type": "markdown",
      "metadata": {
        "id": "PuA8QyZZbxoO"
      },
      "source": [
        "*각각의 label에 맞는 train/test 데이터의 수를 dataframe으로 출력하기.\n",
        "\n",
        "- np.unique : 중복된 성분을 제외한 array 반환.\n",
        "여러 개의 이미지가 모이게 되면 중복된 label(빌딩, 숲, 숲, 산...) 이 나올 수 있게 되는데, 이때 중복된 성분을 제외시켜주기 때문에 각각의 label을 카운트할 수 있게 된다."
      ]
    },
    {
      "cell_type": "code",
      "metadata": {
        "id": "0E2-AtkoKm9z"
      },
      "source": [
        "import pandas as pd\n",
        "\n",
        "n_train = train_labels.shape[0]\n",
        "n_test = test_labels.shape[0]\n",
        "\n",
        "_, train_count = np.unique(train_labels, return_counts=True)\n",
        "_, test_count = np.unique(test_labels, return_counts=True)\n",
        "\n",
        "df = pd.DataFrame(data = (train_count,test_count))\n",
        "df = df.T\n",
        "df['Index']=['buildings','forest','glacier','mountain','sea','street']\n",
        "df.columns = ['Train','Test','Name']\n",
        "\n",
        "df"
      ],
      "execution_count": null,
      "outputs": []
    },
    {
      "cell_type": "markdown",
      "metadata": {
        "id": "MeGbYtU0ctRE"
      },
      "source": [
        "*히스토그램으로 표현하기"
      ]
    },
    {
      "cell_type": "code",
      "metadata": {
        "id": "TTVJVPoRZZq6"
      },
      "source": [
        "import matplotlib.pyplot as plt\n",
        "plt.figure()\n",
        "df.set_index('Name').plot.bar(rot=0)\n",
        "#plt.xticks(df['Name'])"
      ],
      "execution_count": null,
      "outputs": []
    },
    {
      "cell_type": "markdown",
      "metadata": {
        "id": "18sSf-euc3-P"
      },
      "source": [
        "*원으로 표현하기 (train dataset)"
      ]
    },
    {
      "cell_type": "code",
      "metadata": {
        "id": "OQPe_FHOZaQ4"
      },
      "source": [
        "plt.pie(train_count,\n",
        "       explode=(0,0,0,0,0,0),\n",
        "       labels = class_names,\n",
        "       autopct = '%1.1f%%')\n",
        "plt.axis('equal')\n",
        "plt.title('Proportion of each observed quantity in train dataset')\n",
        "plt.show()"
      ],
      "execution_count": null,
      "outputs": []
    },
    {
      "cell_type": "markdown",
      "metadata": {
        "id": "aGmDsJMTc-S5"
      },
      "source": [
        "*원으로 표현하기(test dataset)"
      ]
    },
    {
      "cell_type": "code",
      "metadata": {
        "id": "EripOOXoZgXp"
      },
      "source": [
        "plt.pie(test_count,\n",
        "       explode=(0,0,0,0,0,0),\n",
        "       labels = class_names,\n",
        "       autopct = '%1.1f%%')\n",
        "plt.axis('equal')\n",
        "plt.title('Proportion of each observed quantity in test dataset')\n",
        "plt.show()"
      ],
      "execution_count": null,
      "outputs": []
    },
    {
      "cell_type": "markdown",
      "metadata": {
        "id": "7aRs3dUtdEFE"
      },
      "source": [
        "*Train/Test data 및 label의 shape 출력하기"
      ]
    },
    {
      "cell_type": "code",
      "metadata": {
        "id": "S76QycN7-wOC"
      },
      "source": [
        "print(\"Shape of Train Images:\", train_images.shape)\n",
        "print(\"Shape of Test Images:\", test_images.shape)\n",
        "print(\"Shape of Train Labels:\", train_labels.shape)\n",
        "print(\"Shape of test Labels:\", test_labels.shape)"
      ],
      "execution_count": null,
      "outputs": []
    },
    {
      "cell_type": "markdown",
      "metadata": {
        "id": "iGQQAmi-hNLa"
      },
      "source": [
        "*랜덤으로 이미지를 불러와서 label과 함께 출력"
      ]
    },
    {
      "cell_type": "code",
      "metadata": {
        "id": "Mu-HsPSE-7qy"
      },
      "source": [
        "f,ax = plot.subplots(5,5) #5x5의 subplot 생성\n",
        "f.subplots_adjust(0,0,3,3) #subplot간의 간격 변경\n",
        "for i in range(0,5,1):\n",
        "    for j in range(0,5,1):\n",
        "        rnd_number = randint(0,len(train_images))\n",
        "        ax[i,j].imshow((train_images[rnd_number]).astype(np.uint8))\n",
        "        ax[i,j].set_title(get_classlabel(train_labels[rnd_number]))\n",
        "        ax[i,j].axis('off')"
      ],
      "execution_count": null,
      "outputs": []
    },
    {
      "cell_type": "markdown",
      "metadata": {
        "id": "y8LjHKbnhIQ-"
      },
      "source": [
        "*모델 구성하기"
      ]
    },
    {
      "cell_type": "code",
      "metadata": {
        "id": "Xxob0GbG_Vu4"
      },
      "source": [
        "model = Models.Sequential()\n",
        "\n",
        "model.add(Layers.Conv2D(200,kernel_size=(3,3),activation='relu',input_shape=(150,150,3)))\n",
        "model.add(Layers.Conv2D(180,kernel_size=(3,3),activation='relu'))\n",
        "\n",
        "model.add(Layers.MaxPool2D(5,5))\n",
        "model.add(Layers.BatchNormalization()) \n",
        "\n",
        "model.add(Layers.Conv2D(180,kernel_size=(3,3),activation='relu'))\n",
        "model.add(Layers.Conv2D(140,kernel_size=(3,3),activation='relu'))\n",
        "model.add(Layers.Conv2D(140,kernel_size=(3,3),activation='relu'))\n",
        "model.add(Layers.Conv2D(60,kernel_size=(3,3),activation='relu'))\n",
        "model.add(Layers.MaxPool2D(5,5))\n",
        "model.add(Layers.BatchNormalization())\n",
        "\n",
        "model.add(Layers.Flatten())\n",
        "model.add(Layers.Dropout(rate=0.3)) \n",
        "\n",
        "model.add(Layers.Dense(180,activation='relu'))\n",
        "model.add(Layers.Dense(100,activation='relu'))\n",
        "model.add(Layers.Dense(50,activation='relu'))\n",
        "model.add(Layers.Dropout(rate=0.3)) \n",
        "\n",
        "model.add(Layers.Dense(6,activation='softmax'))\n",
        "\n",
        "model.compile(optimizer=Optimizer.Adam(lr=0.0001),loss='sparse_categorical_crossentropy',metrics=['accuracy'])\n",
        "\n",
        "model.summary()"
      ],
      "execution_count": null,
      "outputs": []
    },
    {
      "cell_type": "markdown",
      "metadata": {
        "id": "XavPTPRdhmIy"
      },
      "source": [
        "*모델 학습시키기"
      ]
    },
    {
      "cell_type": "code",
      "metadata": {
        "id": "tUO3VLA0_agb"
      },
      "source": [
        "#fit() : 모델을 학습합니다. 모델이 오차로부터 매개 변수를 업데이트 시키는 과정을 학습, \r\n",
        "#훈련, 또는 적합(fitting)이라고 하기도 하는데, 모델이 데이터에 적합해가는 과정이기 때문입니다. \r\n",
        "\r\n",
        "trained = model.fit(train_images,train_labels,epochs=20,validation_split=0.30)"
      ],
      "execution_count": null,
      "outputs": []
    },
    {
      "cell_type": "code",
      "metadata": {
        "id": "B8UAqe8W_bAN"
      },
      "source": [
        "plot.plot(trained.history['accuracy'])\n",
        "plot.plot(trained.history['val_accuracy'])\n",
        "plot.title('Model accuracy')\n",
        "plot.ylabel('Accuracy')\n",
        "plot.xlabel('Epoch')\n",
        "plot.legend(['Train', 'Test'], loc='upper left')\n",
        "plot.show()\n",
        "\n",
        "plot.plot(trained.history['loss'])\n",
        "plot.plot(trained.history['val_loss'])\n",
        "plot.title('Model loss')\n",
        "plot.ylabel('Loss')\n",
        "plot.xlabel('Epoch')\n",
        "plot.legend(['Train', 'Test'], loc='upper left')\n",
        "plot.show()"
      ],
      "execution_count": null,
      "outputs": []
    },
    {
      "cell_type": "code",
      "metadata": {
        "id": "hzYm8lcK_dev"
      },
      "source": [
        "'''\n",
        "test_images,test_labels = get_images('../input/seg_test/seg_test/')\n",
        "test_images = np.array(test_images)\n",
        "test_labels = np.array(test_labels)\n",
        "'''"
      ],
      "execution_count": null,
      "outputs": []
    },
    {
      "cell_type": "code",
      "metadata": {
        "id": "_kF6I1JNgCcf"
      },
      "source": [
        "model.evaluate(test_images,test_labels, verbose=1)"
      ],
      "execution_count": null,
      "outputs": []
    },
    {
      "cell_type": "code",
      "metadata": {
        "id": "Q4YnNU0-_ffg"
      },
      "source": [
        "pred_images,no_labels = get_images('../input/seg_pred/')\n",
        "pred_images = np.array(pred_images)\n",
        "pred_images.shape"
      ],
      "execution_count": null,
      "outputs": []
    },
    {
      "cell_type": "code",
      "metadata": {
        "id": "QpKV9uoR_hNd"
      },
      "source": [
        "fig = plot.figure(figsize=(30, 30))\n",
        "outer = gridspec.GridSpec(5, 5, wspace=0.2, hspace=0.2)\n",
        "\n",
        "for i in range(25):\n",
        "    inner = gridspec.GridSpecFromSubplotSpec(2, 1,subplot_spec=outer[i], wspace=0.1, hspace=0.1)\n",
        "    rnd_number = randint(0,len(pred_images))\n",
        "    pred_image = np.array([pred_images[rnd_number]])\n",
        "    pred_class = get_classlabel(model.predict_classes(pred_image)[0])\n",
        "    pred_prob = model.predict(pred_image).reshape(6)\n",
        "    for j in range(2):\n",
        "        if (j%2) == 0:\n",
        "            ax = plot.Subplot(fig, inner[j])\n",
        "            ax.imshow(pred_image[0])\n",
        "            ax.set_title(pred_class)\n",
        "            ax.set_xticks([])\n",
        "            ax.set_yticks([])\n",
        "            fig.add_subplot(ax)\n",
        "        else:\n",
        "            ax = plot.Subplot(fig, inner[j])\n",
        "            ax.bar([0,1,2,3,4,5],pred_prob)\n",
        "            fig.add_subplot(ax)\n",
        "\n",
        "\n",
        "fig.show()"
      ],
      "execution_count": null,
      "outputs": []
    }
  ]
}
